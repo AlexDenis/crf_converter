{
 "cells": [
  {
   "cell_type": "code",
   "execution_count": 1,
   "metadata": {},
   "outputs": [],
   "source": [
    "import os\n",
    "from conllu import parse_tree, parse, parse_incr\n",
    "from tqdm import tqdm_notebook\n",
    "import opencorpora\n",
    "import pyconll\n",
    "import matplotlib.pyplot as plt\n",
    "import pickle \n",
    "from collections import defaultdict\n",
    "import string"
   ]
  },
  {
   "cell_type": "code",
   "execution_count": 26,
   "metadata": {},
   "outputs": [],
   "source": [
    "# Load GSD to SynTagRus mapping\n",
    "with open('mapping_thresh5.pickle', 'rb') as f:\n",
    "    mapping = pickle.load(f)"
   ]
  },
  {
   "cell_type": "code",
   "execution_count": 27,
   "metadata": {},
   "outputs": [],
   "source": [
    "mapping = sorted(mapping)"
   ]
  },
  {
   "cell_type": "code",
   "execution_count": 28,
   "metadata": {
    "scrolled": true
   },
   "outputs": [
    {
     "data": {
      "text/plain": [
       "[('ADJ', 'A'),\n",
       " ('ADJ', 'ADV'),\n",
       " ('ADJ', 'NUM'),\n",
       " ('ADJ', 'S'),\n",
       " ('ADJ', 'V'),\n",
       " ('ADP', 'ADV'),\n",
       " ('ADP', 'PR'),\n",
       " ('ADP', 'S'),\n",
       " ('ADV', 'A'),\n",
       " ('ADV', 'ADV'),\n",
       " ('ADV', 'CONJ'),\n",
       " ('ADV', 'PART'),\n",
       " ('ADV', 'PR'),\n",
       " ('ADV', 'S'),\n",
       " ('AUX', 'V'),\n",
       " ('CCONJ', 'ADV'),\n",
       " ('CCONJ', 'CONJ'),\n",
       " ('CCONJ', 'PART'),\n",
       " ('CCONJ', 'S'),\n",
       " ('DET', 'A'),\n",
       " ('DET', 'PART'),\n",
       " ('DET', 'S'),\n",
       " ('NOUN', 'A'),\n",
       " ('NOUN', 'ADV'),\n",
       " ('NOUN', 'COM'),\n",
       " ('NOUN', 'NID'),\n",
       " ('NOUN', 'PART'),\n",
       " ('NOUN', 'PR'),\n",
       " ('NOUN', 'S'),\n",
       " ('NOUN', 'V'),\n",
       " ('NUM', 'A'),\n",
       " ('NUM', 'ADV'),\n",
       " ('NUM', 'NUM'),\n",
       " ('NUM', 'S'),\n",
       " ('PART', 'A'),\n",
       " ('PART', 'CONJ'),\n",
       " ('PART', 'NID'),\n",
       " ('PART', 'PART'),\n",
       " ('PART', 'S'),\n",
       " ('PRON', 'A'),\n",
       " ('PRON', 'PART'),\n",
       " ('PRON', 'S'),\n",
       " ('PROPN', 'A'),\n",
       " ('PROPN', 'NID'),\n",
       " ('PROPN', 'PART'),\n",
       " ('PROPN', 'S'),\n",
       " ('PROPN', 'V'),\n",
       " ('SCONJ', 'ADV'),\n",
       " ('SCONJ', 'CONJ'),\n",
       " ('SCONJ', 'PART'),\n",
       " ('SCONJ', 'S'),\n",
       " ('VERB', 'A'),\n",
       " ('VERB', 'S'),\n",
       " ('VERB', 'V'),\n",
       " ('X', 'NID'),\n",
       " ('X', 'NUM'),\n",
       " ('X', 'S')]"
      ]
     },
     "execution_count": 28,
     "metadata": {},
     "output_type": "execute_result"
    }
   ],
   "source": [
    "mapping"
   ]
  },
  {
   "cell_type": "code",
   "execution_count": 40,
   "metadata": {},
   "outputs": [],
   "source": [
    "gsd2syntagrus = defaultdict(list)\n",
    "for bundled in mapping:\n",
    "    gsd2syntagrus[bundled[0]].append(bundled[1])"
   ]
  },
  {
   "cell_type": "code",
   "execution_count": 29,
   "metadata": {},
   "outputs": [],
   "source": [
    "syntagrus2gsd = defaultdict(list)\n",
    "for bundled in mapping:\n",
    "    syntagrus2gsd[bundled[1]].append(bundled[0])"
   ]
  },
  {
   "cell_type": "code",
   "execution_count": 27,
   "metadata": {},
   "outputs": [
    {
     "data": {
      "text/plain": [
       "defaultdict(list,\n",
       "            {'ADJ': ['A', 'ADV', 'NUM', 'S', 'V'],\n",
       "             'ADP': ['ADV', 'PR', 'S'],\n",
       "             'ADV': ['A', 'ADV', 'CONJ', 'PART', 'PR', 'S'],\n",
       "             'AUX': ['V'],\n",
       "             'CCONJ': ['ADV', 'CONJ', 'PART', 'S'],\n",
       "             'DET': ['A', 'PART', 'S'],\n",
       "             'NOUN': ['A', 'ADV', 'COM', 'NID', 'PART', 'PR', 'S', 'V'],\n",
       "             'NUM': ['A', 'ADV', 'NUM', 'S'],\n",
       "             'PART': ['A', 'CONJ', 'NID', 'PART', 'S'],\n",
       "             'PRON': ['A', 'PART', 'S'],\n",
       "             'PROPN': ['A', 'NID', 'PART', 'S', 'V'],\n",
       "             'SCONJ': ['ADV', 'CONJ', 'PART', 'S'],\n",
       "             'VERB': ['A', 'S', 'V'],\n",
       "             'X': ['NID', 'NUM', 'S']})"
      ]
     },
     "execution_count": 27,
     "metadata": {},
     "output_type": "execute_result"
    }
   ],
   "source": [
    "gsd2syntagrus"
   ]
  },
  {
   "cell_type": "markdown",
   "metadata": {},
   "source": [
    "## Create GSD datasets"
   ]
  },
  {
   "cell_type": "code",
   "execution_count": 34,
   "metadata": {},
   "outputs": [],
   "source": [
    "path_to_data = '/home/ubuntu/masters/data/UD_Russian-GSD/'\n",
    "filenames = ['ru_gsd-ud-train.conllu', 'ru_gsd-ud-dev.conllu', 'ru_gsd-ud-test.conllu']\n",
    "path_to_train, path_to_val, path_to_test = [os.path.join(path_to_data, filename) for filename in filenames]"
   ]
  },
  {
   "cell_type": "code",
   "execution_count": 35,
   "metadata": {},
   "outputs": [],
   "source": [
    "train = pyconll.load_from_file(path_to_train)\n",
    "val = pyconll.load_from_file(path_to_val)\n",
    "test = pyconll.load_from_file(path_to_test)"
   ]
  },
  {
   "cell_type": "code",
   "execution_count": 36,
   "metadata": {},
   "outputs": [],
   "source": [
    "def create_dataset(conll_data):\n",
    "    data = []\n",
    "    for sentence in tqdm_notebook(conll_data):\n",
    "        current_sentence_info = []\n",
    "        for token in sentence:\n",
    "            current_sentence_info.append((token.form, token.upos))\n",
    "        data.append(current_sentence_info)\n",
    "    \n",
    "    return data"
   ]
  },
  {
   "cell_type": "code",
   "execution_count": 37,
   "metadata": {},
   "outputs": [
    {
     "data": {
      "application/vnd.jupyter.widget-view+json": {
       "model_id": "ac041cce2480484086de19c5120bd911",
       "version_major": 2,
       "version_minor": 0
      },
      "text/plain": [
       "HBox(children=(IntProgress(value=0, max=3850), HTML(value='')))"
      ]
     },
     "metadata": {},
     "output_type": "display_data"
    },
    {
     "name": "stdout",
     "output_type": "stream",
     "text": [
      "\n"
     ]
    },
    {
     "data": {
      "application/vnd.jupyter.widget-view+json": {
       "model_id": "eac4f972566c44788327b7c11154bdd1",
       "version_major": 2,
       "version_minor": 0
      },
      "text/plain": [
       "HBox(children=(IntProgress(value=0, max=579), HTML(value='')))"
      ]
     },
     "metadata": {},
     "output_type": "display_data"
    },
    {
     "name": "stdout",
     "output_type": "stream",
     "text": [
      "\n"
     ]
    },
    {
     "data": {
      "application/vnd.jupyter.widget-view+json": {
       "model_id": "239193e8e12c4fc098e3e517346a9258",
       "version_major": 2,
       "version_minor": 0
      },
      "text/plain": [
       "HBox(children=(IntProgress(value=0, max=601), HTML(value='')))"
      ]
     },
     "metadata": {},
     "output_type": "display_data"
    },
    {
     "name": "stdout",
     "output_type": "stream",
     "text": [
      "\n"
     ]
    }
   ],
   "source": [
    "train_data = create_dataset(train)\n",
    "val_data = create_dataset(val)\n",
    "test_data = create_dataset(test)"
   ]
  },
  {
   "cell_type": "code",
   "execution_count": 38,
   "metadata": {},
   "outputs": [],
   "source": [
    "def change_to_bundled(data, gsd2syntagrus):\n",
    "    for sentence in data:\n",
    "        for i in range(len(sentence)):\n",
    "            word = sentence[i][0]\n",
    "            pos = sentence[i][1]\n",
    "            bundled_tags = [[pos, syntagrus_pos] for syntagrus_pos in gsd2syntagrus[pos]]\n",
    "            sentence[i] = [word, bundled_tags]\n",
    "    return data"
   ]
  },
  {
   "cell_type": "code",
   "execution_count": 41,
   "metadata": {},
   "outputs": [],
   "source": [
    "train_data = change_to_bundled(train_data, gsd2syntagrus)\n",
    "val_data = change_to_bundled(val_data, gsd2syntagrus)\n",
    "test_data = change_to_bundled(test_data, gsd2syntagrus)"
   ]
  },
  {
   "cell_type": "code",
   "execution_count": 54,
   "metadata": {},
   "outputs": [],
   "source": [
    "def deal_w_punct(data):\n",
    "    for sentence in data:\n",
    "        for word in sentence:\n",
    "            if word[0] in string.punctuation:\n",
    "                word[1] = ['PUNCT', 'PUNCT']\n",
    "    return data"
   ]
  },
  {
   "cell_type": "code",
   "execution_count": 55,
   "metadata": {},
   "outputs": [],
   "source": [
    "train_data = deal_w_punct(train_data)\n",
    "val_data = deal_w_punct(val_data)\n",
    "test_data = deal_w_punct(test_data)"
   ]
  },
  {
   "cell_type": "code",
   "execution_count": 57,
   "metadata": {},
   "outputs": [],
   "source": [
    "def save_data(data, path_to_save):\n",
    "    with open(path_to_save, 'wb') as f:\n",
    "        pickle.dump(data, f)"
   ]
  },
  {
   "cell_type": "code",
   "execution_count": 58,
   "metadata": {},
   "outputs": [],
   "source": [
    "pickle_names = ['gsd_train_bundled.pickle', 'gsd_val_bundled.pickle', 'gsd_test_bundled.pickle']\n",
    "save_paths = [os.path.join(path_to_data, filename) for filename in pickle_names]\n",
    "for data, path in zip([train_data, val_data, test_data], save_paths):\n",
    "    save_data(data, path)"
   ]
  },
  {
   "cell_type": "markdown",
   "metadata": {},
   "source": [
    "## Create SynTagRus datasets"
   ]
  },
  {
   "cell_type": "code",
   "execution_count": 2,
   "metadata": {},
   "outputs": [],
   "source": [
    "path_to_corpus = '/home/ubuntu/masters/data/syntagrus/SynTagRus2018/'\n",
    "paths_to_files_syntagrus = []\n",
    "for path, subdirs, files in os.walk(path_to_corpus):\n",
    "    for name in files:\n",
    "        paths_to_files_syntagrus.append(os.path.join(path, name))"
   ]
  },
  {
   "cell_type": "code",
   "execution_count": 11,
   "metadata": {},
   "outputs": [
    {
     "data": {
      "application/vnd.jupyter.widget-view+json": {
       "model_id": "4e615cd822d54809a50671c6ba0f71b7",
       "version_major": 2,
       "version_minor": 0
      },
      "text/plain": [
       "HBox(children=(IntProgress(value=0, max=692), HTML(value='')))"
      ]
     },
     "metadata": {},
     "output_type": "display_data"
    },
    {
     "name": "stdout",
     "output_type": "stream",
     "text": [
      "\n"
     ]
    }
   ],
   "source": [
    "data = []\n",
    "for file in tqdm_notebook(paths_to_files_syntagrus):\n",
    "    file_lines = []\n",
    "    with open(file, 'r') as f:\n",
    "        for line in f:\n",
    "            file_lines.append(line)\n",
    "            \n",
    "    for line in file_lines:\n",
    "        # Beginning of the sentence\n",
    "        if line.startswith('<S'):\n",
    "            data.append([])\n",
    "        # Any word of sentence\n",
    "        if line.startswith('<W'):\n",
    "            word = line.split('>')[1].split('<')[0]\n",
    "            pos = line.split(' ')[2].split('FEAT=\"')[-1]\n",
    "            \n",
    "            # Fix labeling bug with extra \"\n",
    "            if pos.endswith(\"\\\"\"):\n",
    "                pos = pos[:-1]\n",
    "            \n",
    "            # Add to dataset\n",
    "            data[-1].append([word, pos])\n",
    "                \n",
    "            # Check for punctuation\n",
    "            if line.split('</W>')[-1].split('\\n')[0].strip() in string.punctuation and \\\n",
    "               len(line.split('</W>')[-1].split('\\n')[0].strip()) != 0:\n",
    "            #if line.split('</W>')[-1].split(' ')[0] in string.punctuation and len(line.split('</W>')[-1].split('\\n')[0]) != 0:\n",
    "                punct = line.split('</W>')[-1].split('\\n')[0].strip()\n",
    "                data[-1].append([punct, 'PUNCT'])"
   ]
  },
  {
   "cell_type": "code",
   "execution_count": 24,
   "metadata": {},
   "outputs": [
    {
     "data": {
      "text/plain": [
       "73909"
      ]
     },
     "execution_count": 24,
     "metadata": {},
     "output_type": "execute_result"
    }
   ],
   "source": [
    "len(data)"
   ]
  },
  {
   "cell_type": "code",
   "execution_count": 25,
   "metadata": {},
   "outputs": [],
   "source": [
    "train_data_syntagrus = data[:50000]\n",
    "val_data_syntagrus = data[50000:60000]\n",
    "test_data_syntagrus = data[60000:]"
   ]
  },
  {
   "cell_type": "code",
   "execution_count": 32,
   "metadata": {},
   "outputs": [],
   "source": [
    "train_data_syntagrus = change_to_bundled(train_data_syntagrus, syntagrus2gsd)\n",
    "val_data_syntagrus = change_to_bundled(val_data_syntagrus, syntagrus2gsd)\n",
    "test_data_syntagrus = change_to_bundled(test_data_syntagrus, syntagrus2gsd)"
   ]
  },
  {
   "cell_type": "code",
   "execution_count": 59,
   "metadata": {},
   "outputs": [],
   "source": [
    "train_data_syntagrus = deal_w_punct(train_data_syntagrus)\n",
    "val_data_syntagrus = deal_w_punct(val_data_syntagrus)\n",
    "test_data_syntagrus = deal_w_punct(test_data_syntagrus)"
   ]
  },
  {
   "cell_type": "code",
   "execution_count": 61,
   "metadata": {},
   "outputs": [],
   "source": [
    "path_to_data_syntagrus = '/home/ubuntu/masters/data/syntagrus/'"
   ]
  },
  {
   "cell_type": "code",
   "execution_count": 63,
   "metadata": {},
   "outputs": [],
   "source": [
    "pickle_names = ['syntagrus_train_bundled.pickle', 'syntagrus_val_bundled.pickle', 'syntagrus_test_bundled.pickle']\n",
    "save_paths = [os.path.join(path_to_data_syntagrus, filename) for filename in pickle_names]\n",
    "for data, path in zip([train_data_syntagrus, val_data_syntagrus, test_data_syntagrus], save_paths):\n",
    "    save_data(data, path)"
   ]
  },
  {
   "cell_type": "code",
   "execution_count": null,
   "metadata": {},
   "outputs": [],
   "source": []
  }
 ],
 "metadata": {
  "kernelspec": {
   "display_name": "Python 3",
   "language": "python",
   "name": "python3"
  },
  "language_info": {
   "codemirror_mode": {
    "name": "ipython",
    "version": 3
   },
   "file_extension": ".py",
   "mimetype": "text/x-python",
   "name": "python",
   "nbconvert_exporter": "python",
   "pygments_lexer": "ipython3",
   "version": "3.6.5"
  }
 },
 "nbformat": 4,
 "nbformat_minor": 2
}
